{
 "cells": [
  {
   "cell_type": "code",
   "execution_count": null,
   "metadata": {
    "_cell_guid": "b1076dfc-b9ad-4769-8c92-a6c4dae69d19",
    "_uuid": "8f2839f25d086af736a60e9eeb907d3b93b6e0e5",
    "execution": {
     "iopub.execute_input": "2025-02-03T06:38:24.302130Z",
     "iopub.status.busy": "2025-02-03T06:38:24.301787Z",
     "iopub.status.idle": "2025-02-03T06:38:24.331716Z",
     "shell.execute_reply": "2025-02-03T06:38:24.330277Z",
     "shell.execute_reply.started": "2025-02-03T06:38:24.302097Z"
    },
    "trusted": true
   },
   "outputs": [],
   "source": [
    "# This Python 3 environment comes with many helpful analytics libraries installed\n",
    "# It is defined by the kaggle/python Docker image: https://github.com/kaggle/docker-python\n",
    "# For example, here's several helpful packages to load\n",
    "\n",
    "import numpy as np # linear algebra\n",
    "import pandas as pd # data processing, CSV file I/O (e.g. pd.read_csv)\n",
    "import matplotlib.pyplot as plt\n",
    "import nltk\n",
    "from nltk.corpus import stopwords\n",
    "nltk.download('stopwords')\n",
    "# from sklearn.metrics import classification_report\n",
    "from sklearn.metrics import accuracy_score\n",
    "from sklearn.linear_model import LogisticRegression\n",
    "from sklearn.feature_extraction.text import TfidfVectorizer\n",
    "import random\n",
    "import re\n",
    "import seaborn as sns\n"
   ]
  },
  {
   "cell_type": "markdown",
   "metadata": {},
   "source": [
    "## Read Dataset"
   ]
  },
  {
   "cell_type": "code",
   "execution_count": null,
   "metadata": {
    "execution": {
     "iopub.execute_input": "2025-02-03T06:38:26.085863Z",
     "iopub.status.busy": "2025-02-03T06:38:26.085430Z",
     "iopub.status.idle": "2025-02-03T06:38:26.255305Z",
     "shell.execute_reply": "2025-02-03T06:38:26.254113Z",
     "shell.execute_reply.started": "2025-02-03T06:38:26.085835Z"
    },
    "trusted": true
   },
   "outputs": [],
   "source": [
    "#Reading the Data\n",
    "data = pd.read_csv('/spam_ham_dataset')\n",
    "data.head()"
   ]
  },
  {
   "cell_type": "code",
   "execution_count": null,
   "metadata": {
    "execution": {
     "iopub.execute_input": "2025-02-03T06:38:28.329984Z",
     "iopub.status.busy": "2025-02-03T06:38:28.329508Z",
     "iopub.status.idle": "2025-02-03T06:38:28.343029Z",
     "shell.execute_reply": "2025-02-03T06:38:28.341532Z",
     "shell.execute_reply.started": "2025-02-03T06:38:28.329954Z"
    },
    "trusted": true
   },
   "outputs": [],
   "source": [
    "#Dropping the Unaned: 0 column\n",
    "data.drop(['Unnamed: 0','label'],axis=1,inplace=True)"
   ]
  },
  {
   "cell_type": "code",
   "execution_count": null,
   "metadata": {
    "execution": {
     "iopub.execute_input": "2025-02-03T06:38:30.401600Z",
     "iopub.status.busy": "2025-02-03T06:38:30.401250Z",
     "iopub.status.idle": "2025-02-03T06:38:30.411158Z",
     "shell.execute_reply": "2025-02-03T06:38:30.410085Z",
     "shell.execute_reply.started": "2025-02-03T06:38:30.401574Z"
    },
    "trusted": true
   },
   "outputs": [],
   "source": [
    "data.head()"
   ]
  },
  {
   "cell_type": "markdown",
   "metadata": {},
   "source": [
    "## Exploratory Data Analysis"
   ]
  },
  {
   "cell_type": "code",
   "execution_count": null,
   "metadata": {
    "execution": {
     "iopub.execute_input": "2025-02-03T06:38:31.791689Z",
     "iopub.status.busy": "2025-02-03T06:38:31.791265Z",
     "iopub.status.idle": "2025-02-03T06:38:31.799021Z",
     "shell.execute_reply": "2025-02-03T06:38:31.797725Z",
     "shell.execute_reply.started": "2025-02-03T06:38:31.791659Z"
    },
    "trusted": true
   },
   "outputs": [],
   "source": [
    "data['text'][0]"
   ]
  },
  {
   "cell_type": "code",
   "execution_count": null,
   "metadata": {
    "execution": {
     "iopub.execute_input": "2025-02-03T06:38:32.911776Z",
     "iopub.status.busy": "2025-02-03T06:38:32.911374Z",
     "iopub.status.idle": "2025-02-03T06:38:32.918722Z",
     "shell.execute_reply": "2025-02-03T06:38:32.917693Z",
     "shell.execute_reply.started": "2025-02-03T06:38:32.911749Z"
    },
    "trusted": true
   },
   "outputs": [],
   "source": [
    "data['text'][10]"
   ]
  },
  {
   "cell_type": "code",
   "execution_count": null,
   "metadata": {
    "execution": {
     "iopub.execute_input": "2025-02-03T06:38:35.133068Z",
     "iopub.status.busy": "2025-02-03T06:38:35.132728Z",
     "iopub.status.idle": "2025-02-03T06:38:35.140757Z",
     "shell.execute_reply": "2025-02-03T06:38:35.139375Z",
     "shell.execute_reply.started": "2025-02-03T06:38:35.133043Z"
    },
    "trusted": true
   },
   "outputs": [],
   "source": [
    "data['text'][4]"
   ]
  },
  {
   "cell_type": "code",
   "execution_count": null,
   "metadata": {
    "execution": {
     "iopub.execute_input": "2025-02-03T06:38:36.332225Z",
     "iopub.status.busy": "2025-02-03T06:38:36.331848Z",
     "iopub.status.idle": "2025-02-03T06:38:36.347594Z",
     "shell.execute_reply": "2025-02-03T06:38:36.346338Z",
     "shell.execute_reply.started": "2025-02-03T06:38:36.332201Z"
    },
    "trusted": true
   },
   "outputs": [],
   "source": [
    "# Check for missing values\n",
    "print(data['text'].isnull().sum())\n",
    "\n",
    "# Check the distribution of target classes (e.g., spam or not spam)\n",
    "print(data['label_num'].value_counts())\n"
   ]
  },
  {
   "cell_type": "code",
   "execution_count": null,
   "metadata": {
    "execution": {
     "iopub.execute_input": "2025-02-03T06:38:37.986317Z",
     "iopub.status.busy": "2025-02-03T06:38:37.985909Z",
     "iopub.status.idle": "2025-02-03T06:38:38.374254Z",
     "shell.execute_reply": "2025-02-03T06:38:38.373112Z",
     "shell.execute_reply.started": "2025-02-03T06:38:37.986289Z"
    },
    "trusted": true
   },
   "outputs": [],
   "source": [
    "# Calculate the length of the 'text' column\n",
    "data['text_length'] = data['text'].apply(len)\n",
    "\n",
    "# Plot the distribution of text lengths\n",
    "plt.figure(figsize=(8, 6))\n",
    "plt.hist(data['text_length'], bins=50, color='skyblue', edgecolor='black')\n",
    "plt.title('Text Length Distribution')\n",
    "plt.xlabel('Length of Text')\n",
    "plt.ylabel('Frequency')\n",
    "plt.show()\n"
   ]
  },
  {
   "cell_type": "markdown",
   "metadata": {},
   "source": [
    "## Data Cleaning"
   ]
  },
  {
   "cell_type": "code",
   "execution_count": null,
   "metadata": {
    "execution": {
     "iopub.execute_input": "2025-02-03T06:38:45.553305Z",
     "iopub.status.busy": "2025-02-03T06:38:45.552914Z",
     "iopub.status.idle": "2025-02-03T06:38:46.301416Z",
     "shell.execute_reply": "2025-02-03T06:38:46.300121Z",
     "shell.execute_reply.started": "2025-02-03T06:38:45.553280Z"
    },
    "trusted": true
   },
   "outputs": [],
   "source": [
    "# #Extracting Subject from Text column and making a new column\n",
    "# import pandas as pd\n",
    "\n",
    "# def extract_subject_and_text(email_text):\n",
    "#     # Split the email at the first \\r (carriage return)\n",
    "#     subject = email_text.split('\\r', 1)[0].replace('Subject:', '').strip()  \n",
    "#     text = email_text.split('\\r', 1)[-1].strip()\n",
    "#     return pd.Series([subject, text])\n",
    "\n",
    "# data[['subject', 'text']] = data['text'].apply(extract_subject_and_text)\n",
    "# print(data[['subject', 'text']])\n",
    "\n",
    "\n",
    "import pandas as pd\n",
    "import re\n",
    "\n",
    "def extract_subject_and_text(email_text):\n",
    "    # Try to find the \"Subject:\" line and split\n",
    "    subject_match = re.search(r'^Subject: (.*?)(\\r|\\n)', email_text)\n",
    "    if subject_match:\n",
    "        subject = subject_match.group(1).strip()\n",
    "        text = email_text[subject_match.end(0):].strip()  # Everything after the subject\n",
    "    else:\n",
    "        # If no subject found, assume entire text is body\n",
    "        subject = ''\n",
    "        text = email_text.strip()\n",
    "    \n",
    "    # Check if the subject starts with 'Re:' (case-insensitive)\n",
    "    reply = 1 if subject.lower().startswith('re :') else 0\n",
    "    \n",
    "    return pd.Series([subject, text, reply])\n",
    "\n",
    "# Apply the function to extract subject, text, and the reply flag\n",
    "data[['subject', 'text', 'reply']] = data['text'].apply(extract_subject_and_text)\n",
    "\n",
    "# Check the results\n",
    "print(data[['subject', 'text', 'reply']].head())\n"
   ]
  },
  {
   "cell_type": "code",
   "execution_count": null,
   "metadata": {
    "execution": {
     "iopub.execute_input": "2025-02-03T06:38:48.254716Z",
     "iopub.status.busy": "2025-02-03T06:38:48.254336Z",
     "iopub.status.idle": "2025-02-03T06:38:48.265348Z",
     "shell.execute_reply": "2025-02-03T06:38:48.264354Z",
     "shell.execute_reply.started": "2025-02-03T06:38:48.254689Z"
    },
    "trusted": true
   },
   "outputs": [],
   "source": [
    "data.head()"
   ]
  },
  {
   "cell_type": "code",
   "execution_count": null,
   "metadata": {
    "execution": {
     "iopub.execute_input": "2025-02-03T06:38:49.519247Z",
     "iopub.status.busy": "2025-02-03T06:38:49.518878Z",
     "iopub.status.idle": "2025-02-03T06:38:49.525785Z",
     "shell.execute_reply": "2025-02-03T06:38:49.524377Z",
     "shell.execute_reply.started": "2025-02-03T06:38:49.519223Z"
    },
    "trusted": true
   },
   "outputs": [],
   "source": [
    "# Count how many emails are replies (where 'reply' == 1)\n",
    "num_replies = (data['reply'] == 1).sum()\n",
    "print(\"Number of replies:\", num_replies)"
   ]
  },
  {
   "cell_type": "code",
   "execution_count": null,
   "metadata": {
    "execution": {
     "iopub.execute_input": "2025-02-03T06:38:50.877288Z",
     "iopub.status.busy": "2025-02-03T06:38:50.876918Z",
     "iopub.status.idle": "2025-02-03T06:38:51.067777Z",
     "shell.execute_reply": "2025-02-03T06:38:51.066643Z",
     "shell.execute_reply.started": "2025-02-03T06:38:50.877264Z"
    },
    "trusted": true
   },
   "outputs": [],
   "source": [
    "import matplotlib.pyplot as plt\n",
    "\n",
    "# Filter for emails that are replies (reply == 1)\n",
    "replies_data = data[data['reply'] == 1]\n",
    "\n",
    "# Count how many of the replies are spam (num_labels == 1) and not spam (num_labels == 0)\n",
    "num_spam_replies = (replies_data['label_num'] == 1).sum()\n",
    "num_non_spam_replies = (replies_data['label_num'] == 0).sum()\n",
    "\n",
    "# Create a dictionary with the counts\n",
    "counts = {'Spam': num_spam_replies, 'Not Spam': num_non_spam_replies}\n",
    "\n",
    "# Plot the data using a bar chart\n",
    "plt.figure(figsize=(8, 6))\n",
    "plt.bar(counts.keys(), counts.values(), color=['red', 'green'], edgecolor='black')\n",
    "\n",
    "# Add titles and labels\n",
    "plt.title('Spam vs Non-Spam Replies')\n",
    "plt.xlabel('Reply Type')\n",
    "plt.ylabel('Number of Replies')\n",
    "plt.show()\n"
   ]
  },
  {
   "cell_type": "code",
   "execution_count": null,
   "metadata": {
    "execution": {
     "iopub.execute_input": "2025-02-03T06:38:52.895188Z",
     "iopub.status.busy": "2025-02-03T06:38:52.894829Z",
     "iopub.status.idle": "2025-02-03T06:38:53.320935Z",
     "shell.execute_reply": "2025-02-03T06:38:53.319732Z",
     "shell.execute_reply.started": "2025-02-03T06:38:52.895161Z"
    },
    "trusted": true
   },
   "outputs": [],
   "source": [
    "# Create histograms for spam and non-spam emails\n",
    "plt.figure(figsize=(10, 6))\n",
    "\n",
    "# Plot for spam (num_labels == 1)\n",
    "sns.histplot(data[data['label_num'] == 1]['text_length'], color='red', label='Spam', kde=True, bins=30)\n",
    "\n",
    "# Plot for non-spam (num_labels == 0)\n",
    "sns.histplot(data[data['label_num'] == 0]['text_length'], color='green', label='Non-Spam', kde=True, bins=30)\n",
    "\n",
    "# Add title and labels\n",
    "plt.title('Text Length Distribution for Spam vs Non-Spam Emails')\n",
    "plt.xlabel('Text Length')\n",
    "plt.ylabel('Frequency')\n",
    "\n",
    "# Display legend\n",
    "plt.legend()\n",
    "\n",
    "# Show the plot\n",
    "plt.show()\n"
   ]
  },
  {
   "cell_type": "code",
   "execution_count": null,
   "metadata": {
    "execution": {
     "iopub.execute_input": "2025-02-03T06:38:55.576242Z",
     "iopub.status.busy": "2025-02-03T06:38:55.575724Z",
     "iopub.status.idle": "2025-02-03T06:38:55.602321Z",
     "shell.execute_reply": "2025-02-03T06:38:55.601185Z",
     "shell.execute_reply.started": "2025-02-03T06:38:55.576210Z"
    },
    "trusted": true
   },
   "outputs": [],
   "source": [
    "# Replacing Carriage and Newline (\\r & \\n)\n",
    "def remove_carriage_and_newline(text):\n",
    "    text = text.replace('\\r', ' ').replace('\\n', ' ')\n",
    "    return text\n",
    "\n",
    "data['text'] = data['text'].apply(remove_carriage_and_newline)\n",
    "data['subject'] = data['subject'].apply(remove_carriage_and_newline)\n",
    "\n",
    "data['text'][2000]"
   ]
  },
  {
   "cell_type": "code",
   "execution_count": null,
   "metadata": {
    "execution": {
     "iopub.execute_input": "2025-02-03T06:38:57.267689Z",
     "iopub.status.busy": "2025-02-03T06:38:57.267234Z",
     "iopub.status.idle": "2025-02-03T06:38:57.430780Z",
     "shell.execute_reply": "2025-02-03T06:38:57.429753Z",
     "shell.execute_reply.started": "2025-02-03T06:38:57.267658Z"
    },
    "trusted": true
   },
   "outputs": [],
   "source": [
    "# Removing Symbols\n",
    "def remove_symbols(text):\n",
    "    text = re.sub(r'[^A-Za-z0-9\\s]', '', text)\n",
    "    return text\n",
    "\n",
    "data['text'] = data['text'].apply(remove_symbols)\n",
    "data['subject'] = data['subject'].apply(remove_symbols)\n",
    "\n",
    "data['text'][2000]"
   ]
  },
  {
   "cell_type": "code",
   "execution_count": null,
   "metadata": {
    "execution": {
     "iopub.execute_input": "2025-02-03T06:38:58.877509Z",
     "iopub.status.busy": "2025-02-03T06:38:58.877185Z",
     "iopub.status.idle": "2025-02-03T06:38:58.884202Z",
     "shell.execute_reply": "2025-02-03T06:38:58.882976Z",
     "shell.execute_reply.started": "2025-02-03T06:38:58.877487Z"
    },
    "trusted": true
   },
   "outputs": [],
   "source": [
    "data['text'][2000]"
   ]
  },
  {
   "cell_type": "code",
   "execution_count": null,
   "metadata": {
    "execution": {
     "iopub.execute_input": "2025-02-03T06:39:00.005429Z",
     "iopub.status.busy": "2025-02-03T06:39:00.005095Z",
     "iopub.status.idle": "2025-02-03T06:39:00.023529Z",
     "shell.execute_reply": "2025-02-03T06:39:00.022367Z",
     "shell.execute_reply.started": "2025-02-03T06:39:00.005404Z"
    },
    "trusted": true
   },
   "outputs": [],
   "source": [
    "#Convering all the letters in text and subject to lowercase\n",
    "def convert_to_lowercase(text):\n",
    "    return text.lower()\n",
    "\n",
    "# Example usage:\n",
    "data['text'] = data['text'].apply(convert_to_lowercase)\n",
    "data['subject'] = data['subject'].apply(convert_to_lowercase)\n",
    "\n",
    "data['text'][2000]\n"
   ]
  },
  {
   "cell_type": "code",
   "execution_count": null,
   "metadata": {
    "execution": {
     "iopub.execute_input": "2025-02-03T06:39:01.792343Z",
     "iopub.status.busy": "2025-02-03T06:39:01.791954Z",
     "iopub.status.idle": "2025-02-03T06:39:03.326079Z",
     "shell.execute_reply": "2025-02-03T06:39:03.324950Z",
     "shell.execute_reply.started": "2025-02-03T06:39:01.792318Z"
    },
    "trusted": true
   },
   "outputs": [],
   "source": [
    "\n",
    "def remove_stopwords(text):\n",
    "    stop_words = set(stopwords.words('english'))\n",
    "    words = text.split()\n",
    "    words = [word for word in words if word not in stop_words]\n",
    "    return ' '.join(words)\n",
    "\n",
    "data['text'] = data['text'].apply(remove_stopwords)\n",
    "data['subject'] = data['subject'].apply(remove_stopwords)\n",
    "\n",
    "data['text'][2000]"
   ]
  },
  {
   "cell_type": "code",
   "execution_count": null,
   "metadata": {
    "execution": {
     "iopub.execute_input": "2025-02-03T06:39:04.991595Z",
     "iopub.status.busy": "2025-02-03T06:39:04.991250Z",
     "iopub.status.idle": "2025-02-03T06:39:05.253540Z",
     "shell.execute_reply": "2025-02-03T06:39:05.252541Z",
     "shell.execute_reply.started": "2025-02-03T06:39:04.991571Z"
    },
    "trusted": true
   },
   "outputs": [],
   "source": [
    "def remove_emails_and_urls(text):\n",
    "    text = re.sub(r'\\S+@\\S+', '', text)  # Remove email addresses\n",
    "    text = re.sub(r'http\\S+|www\\S+', '', text)  # Remove URLs\n",
    "    return text\n",
    "\n",
    "data['text'] = data['text'].apply(remove_emails_and_urls)\n",
    "data['subject'] = data['subject'].apply(remove_emails_and_urls)\n",
    "\n",
    "data['text'][2000]\n"
   ]
  },
  {
   "cell_type": "code",
   "execution_count": null,
   "metadata": {
    "execution": {
     "iopub.execute_input": "2025-02-03T06:39:07.547598Z",
     "iopub.status.busy": "2025-02-03T06:39:07.547225Z",
     "iopub.status.idle": "2025-02-03T06:39:07.667301Z",
     "shell.execute_reply": "2025-02-03T06:39:07.666235Z",
     "shell.execute_reply.started": "2025-02-03T06:39:07.547573Z"
    },
    "trusted": true
   },
   "outputs": [],
   "source": [
    "def remove_numbers(text):\n",
    "    return re.sub(r'\\d+', '', text)\n",
    "\n",
    "data['text'] = data['text'].apply(remove_numbers)\n",
    "\n",
    "data['subject'] = data['subject'].apply(remove_numbers)\n",
    "data['text'][2000]\n"
   ]
  },
  {
   "cell_type": "code",
   "execution_count": null,
   "metadata": {
    "execution": {
     "iopub.execute_input": "2025-02-03T06:39:09.212655Z",
     "iopub.status.busy": "2025-02-03T06:39:09.212310Z",
     "iopub.status.idle": "2025-02-03T06:39:09.536699Z",
     "shell.execute_reply": "2025-02-03T06:39:09.535559Z",
     "shell.execute_reply.started": "2025-02-03T06:39:09.212598Z"
    },
    "trusted": true
   },
   "outputs": [],
   "source": [
    "def correct_abbreviations(text):\n",
    "    abbreviations = {\n",
    "        'ect': 'etc',\n",
    "        'mobil': 'mobile',\n",
    "        'tel':'tell'\n",
    "    }\n",
    "    for abbr, full in abbreviations.items():\n",
    "        text = re.sub(r'\\b' + abbr + r'\\b', full, text)\n",
    "    return text\n",
    "\n",
    "data['text'] = data['text'].apply(correct_abbreviations)\n",
    "\n",
    "data['subject'] = data['subject'].apply(correct_abbreviations)\n",
    "data['text'][50]\n",
    "\n"
   ]
  },
  {
   "cell_type": "code",
   "execution_count": null,
   "metadata": {
    "execution": {
     "iopub.execute_input": "2025-02-03T06:39:11.128545Z",
     "iopub.status.busy": "2025-02-03T06:39:11.128101Z",
     "iopub.status.idle": "2025-02-03T06:39:11.350062Z",
     "shell.execute_reply": "2025-02-03T06:39:11.348961Z",
     "shell.execute_reply.started": "2025-02-03T06:39:11.128510Z"
    },
    "trusted": true
   },
   "outputs": [],
   "source": [
    "def remove_extra_spaces(text):\n",
    "    text = re.sub(r'\\s+', ' ', text)\n",
    "    text = text.strip()\n",
    "    \n",
    "    return text\n",
    "\n",
    "# Apply the function to the 'text' column\n",
    "data['text'] = data['text'].apply(remove_extra_spaces)\n",
    "data['subject'] = data['subject'].apply(remove_extra_spaces)\n",
    "\n",
    "data['text'][2000]"
   ]
  },
  {
   "cell_type": "code",
   "execution_count": null,
   "metadata": {
    "execution": {
     "iopub.execute_input": "2025-02-03T06:39:20.854920Z",
     "iopub.status.busy": "2025-02-03T06:39:20.854457Z",
     "iopub.status.idle": "2025-02-03T06:39:20.862251Z",
     "shell.execute_reply": "2025-02-03T06:39:20.860889Z",
     "shell.execute_reply.started": "2025-02-03T06:39:20.854890Z"
    },
    "trusted": true
   },
   "outputs": [],
   "source": [
    "data['subject'][random.randint(1,5000)]"
   ]
  },
  {
   "cell_type": "code",
   "execution_count": null,
   "metadata": {
    "execution": {
     "iopub.execute_input": "2025-02-03T06:39:22.325360Z",
     "iopub.status.busy": "2025-02-03T06:39:22.324939Z",
     "iopub.status.idle": "2025-02-03T06:39:22.338335Z",
     "shell.execute_reply": "2025-02-03T06:39:22.337260Z",
     "shell.execute_reply.started": "2025-02-03T06:39:22.325329Z"
    },
    "trusted": true
   },
   "outputs": [],
   "source": [
    "data.head()\n",
    "\n",
    "data.drop('text_length',axis=1,inplace=True)\n",
    "data.head()"
   ]
  },
  {
   "cell_type": "code",
   "execution_count": null,
   "metadata": {
    "execution": {
     "iopub.execute_input": "2025-02-03T06:39:24.405573Z",
     "iopub.status.busy": "2025-02-03T06:39:24.405152Z",
     "iopub.status.idle": "2025-02-03T06:39:24.427442Z",
     "shell.execute_reply": "2025-02-03T06:39:24.426179Z",
     "shell.execute_reply.started": "2025-02-03T06:39:24.405538Z"
    },
    "trusted": true
   },
   "outputs": [],
   "source": [
    "# Splitting X and y\n",
    "X = data[['text', 'subject']] \n",
    "y = data['label_num']\n",
    "\n",
    "# Check the shape of X and y\n",
    "print(\"Shape of X (features):\", X.shape)\n",
    "print(\"Shape of y (labels):\", y.shape)\n",
    "\n",
    "# Split the data into training and test sets (80% training, 20% testing)\n",
    "from sklearn.model_selection import train_test_split\n",
    "\n",
    "X_train, X_test, y_train, y_test = train_test_split(X, y, test_size=0.2, random_state=42)\n",
    "X_train  # Check the training data\n"
   ]
  },
  {
   "cell_type": "code",
   "execution_count": null,
   "metadata": {
    "execution": {
     "iopub.execute_input": "2025-02-03T06:39:28.290870Z",
     "iopub.status.busy": "2025-02-03T06:39:28.290461Z",
     "iopub.status.idle": "2025-02-03T06:39:28.300122Z",
     "shell.execute_reply": "2025-02-03T06:39:28.298706Z",
     "shell.execute_reply.started": "2025-02-03T06:39:28.290843Z"
    },
    "trusted": true
   },
   "outputs": [],
   "source": [
    "# Checking the first few rows of X_train\n",
    "print(X_train.head())\n",
    "print(X_train[:5]) \n"
   ]
  },
  {
   "cell_type": "code",
   "execution_count": null,
   "metadata": {
    "execution": {
     "iopub.execute_input": "2025-02-03T06:39:31.423327Z",
     "iopub.status.busy": "2025-02-03T06:39:31.422924Z",
     "iopub.status.idle": "2025-02-03T06:39:35.044725Z",
     "shell.execute_reply": "2025-02-03T06:39:35.043221Z",
     "shell.execute_reply.started": "2025-02-03T06:39:31.423299Z"
    },
    "trusted": true
   },
   "outputs": [],
   "source": [
    "from wordcloud import WordCloud\n",
    "\n",
    "# Combine all text to create a word cloud\n",
    "text_combined = ' '.join(X_train['text'])\n",
    "\n",
    "# Generate word cloud\n",
    "wordcloud = WordCloud(width=800, height=400).generate(text_combined)\n",
    "\n",
    "# Plot the word cloud\n",
    "plt.figure(figsize=(12, 6))\n",
    "plt.imshow(wordcloud, interpolation='bilinear')\n",
    "plt.title('Most Frequent Words in Text')\n",
    "plt.axis('off')\n",
    "plt.show()\n"
   ]
  },
  {
   "cell_type": "code",
   "execution_count": null,
   "metadata": {
    "execution": {
     "iopub.execute_input": "2025-02-03T06:39:39.892309Z",
     "iopub.status.busy": "2025-02-03T06:39:39.891685Z",
     "iopub.status.idle": "2025-02-03T06:39:44.398725Z",
     "shell.execute_reply": "2025-02-03T06:39:44.397289Z",
     "shell.execute_reply.started": "2025-02-03T06:39:39.892264Z"
    },
    "trusted": true
   },
   "outputs": [],
   "source": [
    "# Add target column to the training data\n",
    "X_train['target'] = y_train\n",
    "\n",
    "# Split data into spam and non-spam\n",
    "spam_data = X_train[X_train['target'] == 1]\n",
    "non_spam_data = X_train[X_train['target'] == 0]\n",
    "\n",
    "# Get the most frequent words in the 'text' column for spam and non-spam emails\n",
    "spam_text_combined = ' '.join(spam_data['text'])\n",
    "nonspam_text_combined = ' '.join(non_spam_data['text'])\n",
    "\n",
    "# Generate word cloud for spam text\n",
    "wordcloud_spam = WordCloud(width=800, height=400, background_color='red').generate(spam_text_combined)\n",
    "\n",
    "# Generate word cloud for non-spam text\n",
    "wordcloud_nonspam = WordCloud(width=800, height=400, background_color='green').generate(nonspam_text_combined)\n",
    "\n",
    "# Plot both word clouds\n",
    "plt.figure(figsize=(12, 6))\n",
    "plt.subplot(1, 2, 1)\n",
    "plt.imshow(wordcloud_spam, interpolation='bilinear')\n",
    "plt.title('Most Frequent Words in Spam Text')\n",
    "plt.axis('off')\n",
    "\n",
    "plt.subplot(1, 2, 2)\n",
    "plt.imshow(wordcloud_nonspam, interpolation='bilinear')\n",
    "plt.title('Most Frequent Words in Non-Spam Text')\n",
    "plt.axis('off')\n",
    "\n",
    "plt.tight_layout()\n",
    "plt.show()\n"
   ]
  },
  {
   "cell_type": "code",
   "execution_count": null,
   "metadata": {
    "execution": {
     "iopub.execute_input": "2025-02-03T06:39:54.004757Z",
     "iopub.status.busy": "2025-02-03T06:39:54.004324Z",
     "iopub.status.idle": "2025-02-03T06:39:54.726551Z",
     "shell.execute_reply": "2025-02-03T06:39:54.725391Z",
     "shell.execute_reply.started": "2025-02-03T06:39:54.004725Z"
    },
    "trusted": true
   },
   "outputs": [],
   "source": [
    "from sklearn.feature_extraction.text import CountVectorizer\n",
    "\n",
    "# Initialize CountVectorizer with English stopwords\n",
    "vectorizer = CountVectorizer(stop_words='english', max_features=20)\n",
    "\n",
    "# Fit and transform the 'text' column\n",
    "X_train_text_matrix = vectorizer.fit_transform(X_train['text'])\n",
    "\n",
    "# Get the top 20 most frequent words in the text column (excluding stop words)\n",
    "top_words = vectorizer.get_feature_names_out()\n",
    "word_counts = X_train_text_matrix.toarray().sum(axis=0)\n",
    "\n",
    "# Plot top words\n",
    "plt.figure(figsize=(10, 6))\n",
    "plt.barh(top_words, word_counts, color='purple')\n",
    "plt.title('Top 20 Most Frequent Words (Excluding Stop Words)')\n",
    "plt.xlabel('Word Frequency')\n",
    "plt.ylabel('Words')\n",
    "plt.show()\n"
   ]
  },
  {
   "cell_type": "code",
   "execution_count": null,
   "metadata": {
    "execution": {
     "iopub.execute_input": "2025-02-03T06:40:02.405302Z",
     "iopub.status.busy": "2025-02-03T06:40:02.404866Z",
     "iopub.status.idle": "2025-02-03T06:40:03.034098Z",
     "shell.execute_reply": "2025-02-03T06:40:03.032820Z",
     "shell.execute_reply.started": "2025-02-03T06:40:02.405264Z"
    },
    "trusted": true
   },
   "outputs": [],
   "source": [
    "X_combined = X_train['text'] + \" \" + X_train['subject']\n",
    "\n",
    "# Check the first few rows of combined text\n",
    "print(X_combined.head())\n",
    "\n",
    "# Initialize the TF-IDF vectorizer\n",
    "tfidf = TfidfVectorizer(max_features=5000)\n",
    "\n",
    "# Fit and transform the combined training data\n",
    "X_train_tfidf = tfidf.fit_transform(X_combined)\n",
    "\n",
    "# Combine 'text' and 'subject' for the test set as well\n",
    "X_test_combined = X_test['text'] + \" \" + X_test['subject']\n",
    "X_test_tfidf = tfidf.transform(X_test_combined)\n",
    "\n",
    "# Check the shapes of the transformed data\n",
    "print(\"Shape of X_train_tfidf:\", X_train_tfidf.shape)\n",
    "print(\"Shape of X_test_tfidf:\", X_test_tfidf.shape)\n",
    "\n",
    "\n"
   ]
  },
  {
   "cell_type": "code",
   "execution_count": null,
   "metadata": {
    "execution": {
     "iopub.execute_input": "2025-02-03T06:40:05.637311Z",
     "iopub.status.busy": "2025-02-03T06:40:05.636930Z",
     "iopub.status.idle": "2025-02-03T06:40:05.646941Z",
     "shell.execute_reply": "2025-02-03T06:40:05.645727Z",
     "shell.execute_reply.started": "2025-02-03T06:40:05.637284Z"
    },
    "trusted": true
   },
   "outputs": [],
   "source": [
    "# Check the first few rows of the data\n",
    "print(data.head())\n",
    "\n",
    "# Check the shape of X and y\n",
    "print(\"Shape of X (features):\", X.shape)\n",
    "print(\"Shape of y (labels):\", y.shape)\n"
   ]
  },
  {
   "cell_type": "code",
   "execution_count": null,
   "metadata": {
    "execution": {
     "iopub.execute_input": "2025-02-03T06:40:10.127560Z",
     "iopub.status.busy": "2025-02-03T06:40:10.127208Z",
     "iopub.status.idle": "2025-02-03T06:40:28.101018Z",
     "shell.execute_reply": "2025-02-03T06:40:28.099478Z",
     "shell.execute_reply.started": "2025-02-03T06:40:10.127535Z"
    },
    "trusted": true
   },
   "outputs": [],
   "source": [
    "from sklearn.linear_model import LogisticRegression\n",
    "from sklearn.ensemble import RandomForestClassifier, GradientBoostingClassifier\n",
    "from sklearn.svm import SVC\n",
    "from sklearn.neighbors import KNeighborsClassifier\n",
    "from sklearn.naive_bayes import MultinomialNB\n",
    "from sklearn.metrics import accuracy_score\n",
    "\n",
    "# Define the models to compare\n",
    "models = {\n",
    "    \"Logistic Regression\": LogisticRegression(),\n",
    "    \"Random Forest\": RandomForestClassifier(random_state=42),\n",
    "    \"SVM\": SVC(random_state=42),\n",
    "    \"KNN\": KNeighborsClassifier(),\n",
    "    \"Naive Bayes\": MultinomialNB(),\n",
    "    \"Gradient Boosting\": GradientBoostingClassifier(random_state=42)\n",
    "}\n",
    "\n",
    "# Initialize a dictionary to store the results\n",
    "results = {}\n",
    "\n",
    "# Train and evaluate each model\n",
    "for model_name, model in models.items():\n",
    "    model.fit(X_train_tfidf, y_train)  # Train the model\n",
    "    y_pred = model.predict(X_test_tfidf)  # Make predictions\n",
    "    accuracy = accuracy_score(y_test, y_pred)  # Calculate accuracy\n",
    "    results[model_name] = accuracy  # Store the result\n",
    "\n",
    "# Print out the results\n",
    "for model_name, accuracy in results.items():\n",
    "    print(f\"{model_name}: {accuracy:.4f}\")\n",
    "    \n",
    "# Optionally, you can sort the models by accuracy to find the best one\n",
    "best_model = max(results, key=results.get)\n",
    "print(f\"\\nBest Model: {best_model} with Accuracy: {results[best_model]:.4f}\")\n",
    "\n",
    "\n",
    "'''\n",
    "Logistic Regression: 0.9816\n",
    "Random Forest: 0.9739\n",
    "SVM: 0.9903\n",
    "KNN: 0.6783\n",
    "Naive Bayes: 0.9517\n",
    "Gradient Boosting: 0.9575\n",
    "\n",
    "Best Model: SVM with Accuracy: 0.9903\n",
    "'''"
   ]
  },
  {
   "cell_type": "code",
   "execution_count": null,
   "metadata": {
    "execution": {
     "iopub.execute_input": "2025-02-03T06:41:07.619360Z",
     "iopub.status.busy": "2025-02-03T06:41:07.618959Z",
     "iopub.status.idle": "2025-02-03T06:43:51.585030Z",
     "shell.execute_reply": "2025-02-03T06:43:51.583686Z",
     "shell.execute_reply.started": "2025-02-03T06:41:07.619334Z"
    },
    "trusted": true
   },
   "outputs": [],
   "source": [
    "from sklearn.model_selection import GridSearchCV\n",
    "\n",
    "# Define parameter grid for SVM\n",
    "param_grid = {\n",
    "    'C': [0.1, 1, 10],\n",
    "    'kernel': ['linear', 'rbf'],\n",
    "    'gamma': ['scale', 'auto']\n",
    "}\n",
    "\n",
    "grid_search = GridSearchCV(SVC(random_state=42), param_grid, cv=5, scoring='accuracy')\n",
    "grid_search.fit(X_train_tfidf, y_train)\n",
    "\n",
    "# Get the best parameters\n",
    "best_params = grid_search.best_params_\n",
    "print(\"Best hyperparameters for SVM:\", best_params)\n",
    "# {'C': 10, 'gamma': 'scale', 'kernel': 'rbf'}"
   ]
  },
  {
   "cell_type": "code",
   "execution_count": null,
   "metadata": {
    "execution": {
     "iopub.execute_input": "2025-02-03T06:43:51.586880Z",
     "iopub.status.busy": "2025-02-03T06:43:51.586486Z",
     "iopub.status.idle": "2025-02-03T06:43:52.492511Z",
     "shell.execute_reply": "2025-02-03T06:43:52.491343Z",
     "shell.execute_reply.started": "2025-02-03T06:43:51.586834Z"
    },
    "trusted": true
   },
   "outputs": [],
   "source": [
    "from sklearn.metrics import classification_report, confusion_matrix\n",
    "\n",
    "y_pred = grid_search.best_estimator_.predict(X_test_tfidf)\n",
    "print(\"Classification Report:\")\n",
    "print(classification_report(y_test, y_pred))\n",
    "print(\"Confusion Matrix:\")\n",
    "print(confusion_matrix(y_test, y_pred))\n"
   ]
  },
  {
   "cell_type": "code",
   "execution_count": null,
   "metadata": {
    "execution": {
     "iopub.execute_input": "2025-02-03T06:44:03.893341Z",
     "iopub.status.busy": "2025-02-03T06:44:03.893008Z",
     "iopub.status.idle": "2025-02-03T06:44:08.366970Z",
     "shell.execute_reply": "2025-02-03T06:44:08.365864Z",
     "shell.execute_reply.started": "2025-02-03T06:44:03.893317Z"
    },
    "trusted": true
   },
   "outputs": [],
   "source": [
    "# Access the best model from GridSearchCV\n",
    "train_accuracy = grid_search.best_estimator_.score(X_train_tfidf, y_train)\n",
    "test_accuracy = grid_search.best_estimator_.score(X_test_tfidf, y_test)\n",
    "\n",
    "# Print out the train and test accuracy\n",
    "print(f\"Train Accuracy: {train_accuracy}\")\n",
    "print(f\"Test Accuracy: {test_accuracy}\")\n"
   ]
  },
  {
   "cell_type": "code",
   "execution_count": null,
   "metadata": {
    "execution": {
     "iopub.execute_input": "2025-02-03T06:52:31.508013Z",
     "iopub.status.busy": "2025-02-03T06:52:31.507573Z",
     "iopub.status.idle": "2025-02-03T06:52:35.793970Z",
     "shell.execute_reply": "2025-02-03T06:52:35.792711Z",
     "shell.execute_reply.started": "2025-02-03T06:52:31.507987Z"
    },
    "trusted": true
   },
   "outputs": [],
   "source": [
    "# Assuming grid_search is your GridSearchCV or RandomizedSearchCV object\n",
    "best_params = grid_search.best_params_\n",
    "\n",
    "# Initialize the model with the best parameters\n",
    "final_model = SVC(**best_params, random_state=42,class_weight='balanced')\n",
    "\n",
    "# Retrain the model on the entire training data\n",
    "final_model.fit(X_train_tfidf, y_train)\n",
    "\n",
    "# Evaluate on the test data\n",
    "test_accuracy = final_model.score(X_test_tfidf, y_test)\n",
    "print(f\"Test Accuracy: {test_accuracy}\")\n"
   ]
  },
  {
   "cell_type": "code",
   "execution_count": null,
   "metadata": {
    "execution": {
     "iopub.execute_input": "2025-02-03T06:52:35.795763Z",
     "iopub.status.busy": "2025-02-03T06:52:35.795424Z",
     "iopub.status.idle": "2025-02-03T06:52:51.544693Z",
     "shell.execute_reply": "2025-02-03T06:52:51.543670Z",
     "shell.execute_reply.started": "2025-02-03T06:52:35.795739Z"
    },
    "trusted": true
   },
   "outputs": [],
   "source": [
    "from sklearn.model_selection import cross_val_score\n",
    "\n",
    "cv_scores = cross_val_score(final_model, X_train_tfidf, y_train, cv=5)  # 5-fold cross-validation\n",
    "print(f\"Cross-validation scores: {cv_scores}\")\n",
    "print(f\"Mean cross-validation score: {cv_scores.mean()}\")\n",
    "\n",
    "# So we can say That the model is not overfitting as the acc of model and the Mean CV is almost same"
   ]
  },
  {
   "cell_type": "code",
   "execution_count": null,
   "metadata": {
    "execution": {
     "iopub.execute_input": "2025-02-03T06:52:51.546888Z",
     "iopub.status.busy": "2025-02-03T06:52:51.546638Z",
     "iopub.status.idle": "2025-02-03T06:52:52.444008Z",
     "shell.execute_reply": "2025-02-03T06:52:52.442926Z",
     "shell.execute_reply.started": "2025-02-03T06:52:51.546867Z"
    },
    "trusted": true
   },
   "outputs": [],
   "source": [
    "from sklearn.metrics import classification_report\n",
    "\n",
    "# Predict labels\n",
    "y_pred = final_model.predict(X_test_tfidf)\n",
    "\n",
    "# Print detailed classification metrics\n",
    "print(classification_report(y_test, y_pred))\n"
   ]
  },
  {
   "cell_type": "code",
   "execution_count": null,
   "metadata": {
    "execution": {
     "iopub.execute_input": "2025-02-03T06:52:52.445567Z",
     "iopub.status.busy": "2025-02-03T06:52:52.445216Z",
     "iopub.status.idle": "2025-02-03T06:52:53.525986Z",
     "shell.execute_reply": "2025-02-03T06:52:53.524984Z",
     "shell.execute_reply.started": "2025-02-03T06:52:52.445535Z"
    },
    "trusted": true
   },
   "outputs": [],
   "source": [
    "from sklearn.metrics import confusion_matrix\n",
    "y_pred = final_model.predict(X_test_tfidf)\n",
    "\n",
    "# Generate confusion matrix\n",
    "cm = confusion_matrix(y_test, y_pred)\n",
    "print(cm)\n",
    "\n",
    "# Plot confusion matrix\n",
    "plt.figure(figsize=(6, 4))\n",
    "sns.heatmap(cm, annot=True, fmt=\"d\", cmap=\"Blues\", xticklabels=[\"Non-Spam\", \"Spam\"], yticklabels=[\"Non-Spam\", \"Spam\"])\n",
    "plt.xlabel('Predicted')\n",
    "plt.ylabel('Actual')\n",
    "plt.title('Confusion Matrix')\n",
    "plt.show()"
   ]
  },
  {
   "cell_type": "code",
   "execution_count": null,
   "metadata": {
    "execution": {
     "iopub.execute_input": "2025-02-03T07:03:45.271117Z",
     "iopub.status.busy": "2025-02-03T07:03:45.270717Z",
     "iopub.status.idle": "2025-02-03T07:03:45.285250Z",
     "shell.execute_reply": "2025-02-03T07:03:45.283924Z",
     "shell.execute_reply.started": "2025-02-03T07:03:45.271079Z"
    },
    "trusted": true
   },
   "outputs": [],
   "source": [
    "# Example new data (replace with actual new data)\n",
    "new_data = pd.DataFrame({\n",
    "    'text': [\n",
    "        \"\"\"You have won a $1000 gift card! Claim it now by clicking the link below. Don't miss out on this exclusive offer!\n",
    "Click here to claim your prize now: www.fake-link.com\"\"\",\n",
    "        \n",
    "        '''Hey, I wanted to follow up on our meeting from last week. Can we schedule a call to discuss the next steps for the project? Let me know what time works for you.''',\n",
    "        \n",
    "        '''I just wanted to let you know that we're offering a special discount of 20% off all our products for the next week. \n",
    "You can use the promo code \"DISCOUNT20\" at checkout to claim your savings. Let me know if you need any help with your order!''',\n",
    "\n",
    "        '''Hello! We’re excited to offer you a special discount of 15% on all products this weekend. \n",
    "For example, you can get our latest smartwatch for only $149.99 (original price $179.99). \n",
    "Feel free to visit our store or check out our website for more details.\n",
    "''',\n",
    "\n",
    "        '''Hi [Name],\n",
    "\n",
    "We hope you're enjoying your experience with [Product/Service]! \n",
    "We wanted to let you know that we've updated our offerings to give you even more value. \n",
    "Our regular membership is $99.99, but now it’s available for $89.99 price only for the next few weeks—designed to make it easier for you to continue enjoying all the features you love.\n",
    "\n",
    "If you’re interested or have any questions, feel free to reach out! We’re here to help.\n",
    "\n",
    "Best,  \n",
    "[Your Company Name] Team\n",
    "'''\n",
    "\n",
    "    ]\n",
    "})\n",
    "\n",
    "# Preprocess the new data (clean and vectorize it using the same vectorizer)\n",
    "new_data_tfidf = tfidf.transform(new_data['text'])\n",
    "\n",
    "print(\"Shape of new data after TF-IDF transformation:\", new_data_tfidf.shape)\n",
    "\n",
    "# Assuming 'model' is your trained model (Logistic Regression in your case)\n",
    "predictions = final_model.predict(new_data_tfidf)\n",
    "\n",
    "# Map predictions to human-readable labels\n",
    "prediction_labels = ['Spam' if pred == 1 else 'Not Spam' for pred in predictions]\n",
    "\n",
    "# Show the results\n",
    "for label in (prediction_labels):\n",
    "    print(f\"Prediction: {label}\\n\")\n"
   ]
  },
  {
   "cell_type": "code",
   "execution_count": null,
   "metadata": {
    "trusted": true
   },
   "outputs": [],
   "source": [
    "import joblib\n",
    "\n",
    "# Assume you have a trained model called 'model'\n",
    "# Save the model to a file\n",
    "joblib.dump(final_model, 'model.joblib')\n",
    "joblib.dump(tfidf, 'tfidf.joblib')"
   ]
  }
 ],
 "metadata": {
  "kaggle": {
   "accelerator": "none",
   "dataSources": [
    {
     "datasetId": 109196,
     "sourceId": 260807,
     "sourceType": "datasetVersion"
    }
   ],
   "dockerImageVersionId": 30839,
   "isGpuEnabled": false,
   "isInternetEnabled": true,
   "language": "python",
   "sourceType": "notebook"
  },
  "kernelspec": {
   "display_name": "Python 3",
   "language": "python",
   "name": "python3"
  },
  "language_info": {
   "codemirror_mode": {
    "name": "ipython",
    "version": 3
   },
   "file_extension": ".py",
   "mimetype": "text/x-python",
   "name": "python",
   "nbconvert_exporter": "python",
   "pygments_lexer": "ipython3",
   "version": "3.10.12"
  }
 },
 "nbformat": 4,
 "nbformat_minor": 4
}
